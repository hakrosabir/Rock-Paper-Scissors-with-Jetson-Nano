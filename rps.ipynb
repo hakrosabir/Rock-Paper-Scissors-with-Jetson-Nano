{
 "cells": [
  {
   "cell_type": "code",
   "execution_count": 10,
   "metadata": {},
   "outputs": [
    {
     "name": "stdout",
     "output_type": "stream",
     "text": [
      "3\n",
      "\n",
      "2\n",
      "\n",
      "1\n",
      "\n",
      "グー\n"
     ]
    }
   ],
   "source": [
    "import random\n",
    "import time\n",
    "\n",
    "print(\"3\\n\")\n",
    "time.sleep(1)\n",
    "print(\"2\\n\")\n",
    "time.sleep(1)\n",
    "print(\"1\\n\")\n",
    "a = random.randint(1,3)\n",
    "\n",
    "if(a == 1):\n",
    "    print(\"グー\")\n",
    "elif(a==2):\n",
    "    print(\"チョキ\")\n",
    "elif(a==3):\n",
    "    print(\"パー\")\n",
    "\n",
    "time.sleep(1)"
   ]
  },
  {
   "cell_type": "code",
   "execution_count": null,
   "metadata": {},
   "outputs": [],
   "source": [
    "display(image_widget)\n",
    "camera.observe(update, names='value')\n",
    "# this attaches the 'update' function to the 'value' traitlet of our camera\n",
    "BUTTONPIN = 5\n",
    "\n",
    "GPIO.setmode(GPIO.BCM)\n",
    "GPIO.setup(BUTTONPIN, GPIO.IN)\n",
    "\n",
    "print(\"3\\n\")\n",
    "time.sleep(1)\n",
    "print(\"2\\n\")\n",
    "time.sleep(1)\n",
    "print(\"1\\n\")\n",
    "b = random.randint(1,3)\n",
    "\n",
    "#ライバルの出す手\n",
    "if(b == 1):\n",
    "    print(\"グー\\n\")\n",
    "elif(b==2):\n",
    "    print(\"チョキ\\n\")\n",
    "elif(b==3):\n",
    "    print(\"パー\\n\")\n",
    "\n",
    "#アンサーの出す手\n",
    "while True:\n",
    "    time.sleep(1)\n",
    "    if( GPIO.input(BUTTONPIN)):\n",
    "        #camera.observe(update, names='value')\n",
    "        time.sleep(1)\n",
    "        if((a == b)or(b ==1 and a ==3) or (b ==2 and a ==1) or (b ==3 and a ==2)):\n",
    "            sys.stdout.write(\"\\rWin!!\")\n",
    "        else:\n",
    "            sys.stdout.write(\"\\rLose\")\n",
    "        sys.stdout.flush()"
   ]
  },
  {
   "cell_type": "code",
   "execution_count": null,
   "metadata": {},
   "outputs": [],
   "source": []
  }
 ],
 "metadata": {
  "kernelspec": {
   "display_name": "Python 3",
   "language": "python",
   "name": "python3"
  },
  "language_info": {
   "codemirror_mode": {
    "name": "ipython",
    "version": 3
   },
   "file_extension": ".py",
   "mimetype": "text/x-python",
   "name": "python",
   "nbconvert_exporter": "python",
   "pygments_lexer": "ipython3",
   "version": "3.6.7"
  }
 },
 "nbformat": 4,
 "nbformat_minor": 2
}
