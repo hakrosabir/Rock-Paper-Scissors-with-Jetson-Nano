{
 "cells": [
  {
   "cell_type": "markdown",
   "metadata": {},
   "source": [
    "## Machine Learning: Initialize Trained Network"
   ]
  },
  {
   "cell_type": "code",
   "execution_count": 1,
   "metadata": {},
   "outputs": [],
   "source": [
    "#PyTorchの初期化\n",
    "import torch\n",
    "import torchvision\n",
    "\n",
    "#ランダム関数\n",
    "import random\n",
    "\n",
    "### import randoms\n",
    "import math\n",
    "\n",
    "### import colors\n",
    "from colorama import Fore, Back, Style\n",
    "\n",
    "model = torchvision.models.alexnet(pretrained=False)\n",
    "\n",
    "#種類を増やした場合、変更するところ\n",
    "model.classifier[6] = torch.nn.Linear(model.classifier[6].in_features, 3)\n",
    "\n",
    "#モデルの読み込み\n",
    "model.load_state_dict(torch.load('best_model.pth'))\n",
    "\n",
    "#カメラのフォーマットを学習済みモデルのフォーマットに合わせ変換\n",
    "import cv2\n",
    "import numpy as np\n",
    "\n",
    "mean = 255.0 * np.array([0.485, 0.456, 0.406])\n",
    "stdev = 255.0 * np.array([0.229, 0.224, 0.225])\n",
    "\n",
    "normalize = torchvision.transforms.Normalize(mean, stdev)\n",
    "\n",
    "def preprocess(camera_value):\n",
    "    global device, normalize\n",
    "    x = camera_value\n",
    "    x = cv2.cvtColor(x, cv2.COLOR_BGR2RGB)\n",
    "    x = x.transpose((2, 0, 1))\n",
    "    x = torch.from_numpy(x).float()\n",
    "    x = normalize(x)\n",
    "    x = x.to(device)\n",
    "    x = x[None, ...]\n",
    "    return x\n",
    "\n",
    "#カメラ画像の取得\n",
    "from jetcam.csi_camera import CSICamera\n",
    "import ipywidgets\n",
    "from IPython.display import display\n",
    "from jetcam.utils import bgr8_to_jpeg\n",
    "\n",
    "camera = CSICamera(width=224, height=224)\n",
    "image = camera.read()\n",
    "image_widget = ipywidgets.Image(format='jpeg')\n",
    "image_widget.value = bgr8_to_jpeg(image)\n",
    "\n",
    "#カメラ画像の更新\n",
    "camera.running = True\n",
    "\n",
    "def update_image(change):\n",
    "    image = change['new']\n",
    "    image_widget.value = bgr8_to_jpeg(image)\n",
    "    \n",
    "camera.observe(update_image, names='value')\n",
    "\n",
    "#GPU\n",
    "device = torch.device('cuda')\n",
    "model = model.to(device)\n"
   ]
  },
  {
   "cell_type": "markdown",
   "metadata": {},
   "source": [
    "## Machine Learning: Deduction using the trained network"
   ]
  },
  {
   "cell_type": "code",
   "execution_count": 2,
   "metadata": {},
   "outputs": [],
   "source": [
    "#推論\n",
    "import torch.nn.functional as F\n",
    "import time\n",
    "import sys\n",
    "a=0\n",
    "one_blocked=0.0\n",
    "two_blocked=0.0\n",
    "three_blocked=0.0\n",
    "def update(change):\n",
    "    global blocked_slider, robot,a\n",
    "    global one_blocked, two_blocked, three_blocked\n",
    "    x = change['new'] \n",
    "    x = preprocess(x)\n",
    "    y = model(x)\n",
    "    \n",
    "    # we apply the `softmax` function to normalize the output vector so it sums to 1 (which makes it a probability distribution)\n",
    "    y = F.softmax(y, dim=1)\n",
    "    \n",
    "    one_blocked = float(y.flatten()[0])\n",
    "    two_blocked = float(y.flatten()[1])\n",
    "    three_blocked = float(y.flatten()[2])\n",
    "    if(one_blocked > two_blocked and one_blocked > three_blocked):\n",
    "        a = 0\n",
    "    elif(two_blocked > one_blocked and two_blocked > three_blocked):\n",
    "        a = 1\n",
    "    elif(three_blocked > one_blocked and three_blocked > one_blocked):\n",
    "        a = 2\n",
    "    #0　グー rock \n",
    "    #1　パー paper\n",
    "    #2　チョキ scissors   \n",
    "    \n",
    "    time.sleep(0.001)\n",
    "        \n",
    "update({'new': image})  # we call the function once to intialize\n"
   ]
  },
  {
   "cell_type": "markdown",
   "metadata": {},
   "source": [
    "## Gameplay: actual gameplay process"
   ]
  },
  {
   "cell_type": "code",
   "execution_count": 3,
   "metadata": {},
   "outputs": [
    {
     "data": {
      "application/vnd.jupyter.widget-view+json": {
       "model_id": "73a42bd6c9104728897bde768505ba2d",
       "version_major": 2,
       "version_minor": 0
      },
      "text/plain": [
       "Image(value=b'\\xff\\xd8\\xff\\xe0\\x00\\x10JFIF\\x00\\x01\\x01\\x00\\x00\\x01\\x00\\x01\\x00\\x00\\xff\\xdb\\x00C\\x00\\x02\\x01\\x0…"
      ]
     },
     "metadata": {},
     "output_type": "display_data"
    },
    {
     "name": "stdout",
     "output_type": "stream",
     "text": [
      "\n",
      "Game  1  Opponent: Rock     You: Scissor  \tR:0.165565, P:0.046440, S:0.787995\t\u001b[31mYou lose\u001b[0m\n",
      "Game  2  Opponent: Rock     You: Paper    \tR:0.301882, P:0.680867, S:0.017251\t\u001b[32mYou win!!\u001b[0m\n",
      "Game  3  Opponent: Paper    You: Paper    \tR:0.007267, P:0.992441, S:0.000292\t\u001b[33mDraw\u001b[0m\n",
      "Game  4  Opponent: Paper    You: Paper    \tR:0.381453, P:0.596011, S:0.022536\t\u001b[33mDraw\u001b[0m\n",
      "Game  5  Opponent: Rock     You: Rock     \tR:0.668864, P:0.323671, S:0.007465\t\u001b[33mDraw\u001b[0m\n",
      "Game  6  Opponent: Rock     You: Paper    \tR:0.251373, P:0.734951, S:0.013676\t\u001b[32mYou win!!\u001b[0m\n",
      "Game  7  Opponent: Paper    You: Rock     \tR:0.548067, P:0.409983, S:0.041950\t\u001b[31mYou lose\u001b[0m\n",
      "Game  8: GO!\u001b[0m\n",
      "Toatal score: 2/8\n",
      "\n"
     ]
    },
    {
     "ename": "SystemExit",
     "evalue": "0",
     "output_type": "error",
     "traceback": [
      "An exception has occurred, use %tb to see the full traceback.\n",
      "\u001b[0;31mSystemExit\u001b[0m\u001b[0;31m:\u001b[0m 0\n"
     ]
    },
    {
     "name": "stderr",
     "output_type": "stream",
     "text": [
      "/usr/local/lib/python3.6/dist-packages/IPython/core/interactiveshell.py:3304: UserWarning: To exit: use 'exit', 'quit', or Ctrl-D.\n",
      "  warn(\"To exit: use 'exit', 'quit', or Ctrl-D.\", stacklevel=1)\n"
     ]
    }
   ],
   "source": [
    "### Functions\n",
    "\n",
    "def name_of_value(val):\n",
    "    if val == 0:\n",
    "        return \"Rock    \";\n",
    "    if val == 1:\n",
    "        return \"Paper   \";\n",
    "    if val == 2:\n",
    "        return \"Scissor \";\n",
    "\n",
    "\n",
    "### MAIN\n",
    "\n",
    "# activate hand gesture recognition\n",
    "display(image_widget)\n",
    "camera.observe(update, names='value')\n",
    "\n",
    "# main process\n",
    "game_count = won_count = 0\n",
    "TIME_DELTA = 0.7\n",
    "try:\n",
    "    while True: # forever loop\n",
    "        # wait for signal\n",
    "        sys.stdout.write(\"\\n\\rAre you ready?\") \n",
    "        time.sleep(2.0)\n",
    "        #GPIO.wait_for_edge(BUTTON_PIN, GPIO.RISING)\n",
    "        \n",
    "        # reset light and rotation\n",
    "        game_count = game_count+1\n",
    "        sys.stdout.flush()\n",
    "        sys.stdout.write(\"\\rGame %2s: Rock-\" % game_count)\n",
    "        time.sleep( TIME_DELTA )    \n",
    "        \n",
    "        # Rock-\n",
    "        sys.stdout.flush()        \n",
    "        sys.stdout.write(\"\\rGame %2s: Paper-\" % game_count)\n",
    "        time.sleep( TIME_DELTA )    \n",
    "        \n",
    "        # Paper-\n",
    "        sys.stdout.flush()\n",
    "        sys.stdout.write(\"\\rGame %2s: Scissors-\" % game_count)\n",
    "        time.sleep( TIME_DELTA )\n",
    "              \n",
    "        # Scissors (GO!)\n",
    "        sys.stdout.flush()\n",
    "        sys.stdout.write(\"\\rGame %2s: GO!\" % game_count )\n",
    "        \n",
    "        rint = random.randint(0,2)\n",
    "              \n",
    "        # Wait a little and detect hand gesture\n",
    "        time.sleep( TIME_DELTA )\n",
    "        sint = a; \n",
    "        sys.stdout.write(\"\\rGame %2s  \" % game_count)\n",
    "        sys.stdout.write(\"Opponent: %s You: %s \" % (name_of_value(rint), name_of_value(sint)))  \n",
    "        sys.stdout.write(\"\\tR:%f, P:%f, S:%f\\t\" % (one_blocked, two_blocked, three_blocked) )\n",
    "        \n",
    "        # win or lose\n",
    "        diff = 0\n",
    "        diff = (rint - sint) % 3;\n",
    "        if diff == 0:\n",
    "            sys.stdout.write(Fore.YELLOW+\"Draw\")\n",
    "            #tie_game();\n",
    "        elif diff == 1:\n",
    "            sys.stdout.write(Fore.RED+\"You lose\")\n",
    "            #won_game();\n",
    "        elif diff == 2:\n",
    "            sys.stdout.write(Fore.GREEN + \"You win!!\")\n",
    "            won_count = won_count + 1\n",
    "            #lost_game();\n",
    "        sys.stdout.write(Style.RESET_ALL)\n",
    "        \n",
    "except KeyboardInterrupt:\n",
    "    sys.stdout.write(Style.RESET_ALL + \"\\n\")\n",
    "    # statistics at the end\n",
    "    if game_count != 0:\n",
    "        print(\"Toatal score: %s/%s\\n\" % (won_count, game_count) )\n",
    "    sys.exit(0)\n",
    "   "
   ]
  },
  {
   "cell_type": "code",
   "execution_count": null,
   "metadata": {},
   "outputs": [],
   "source": []
  },
  {
   "cell_type": "code",
   "execution_count": null,
   "metadata": {},
   "outputs": [],
   "source": []
  }
 ],
 "metadata": {
  "kernelspec": {
   "display_name": "Python 3",
   "language": "python",
   "name": "python3"
  },
  "language_info": {
   "codemirror_mode": {
    "name": "ipython",
    "version": 3
   },
   "file_extension": ".py",
   "mimetype": "text/x-python",
   "name": "python",
   "nbconvert_exporter": "python",
   "pygments_lexer": "ipython3",
   "version": "3.6.8"
  }
 },
 "nbformat": 4,
 "nbformat_minor": 2
}
